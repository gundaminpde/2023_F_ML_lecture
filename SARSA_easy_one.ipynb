{
  "nbformat": 4,
  "nbformat_minor": 0,
  "metadata": {
    "colab": {
      "provenance": [],
      "gpuType": "T4",
      "authorship_tag": "ABX9TyPjVqShykNzEgY4eXyl3aiP",
      "include_colab_link": true
    },
    "kernelspec": {
      "name": "python3",
      "display_name": "Python 3"
    },
    "language_info": {
      "name": "python"
    },
    "accelerator": "GPU"
  },
  "cells": [
    {
      "cell_type": "markdown",
      "metadata": {
        "id": "view-in-github",
        "colab_type": "text"
      },
      "source": [
        "<a href=\"https://colab.research.google.com/github/gundaminpde/2023_F_ML_lecture/blob/main/SARSA_easy_one.ipynb\" target=\"_parent\"><img src=\"https://colab.research.google.com/assets/colab-badge.svg\" alt=\"Open In Colab\"/></a>"
      ]
    },
    {
      "cell_type": "code",
      "execution_count": null,
      "metadata": {
        "colab": {
          "base_uri": "https://localhost:8080/"
        },
        "id": "AVmoUFagFLlP",
        "outputId": "2553807a-7b17-4869-c5a8-eb95f7eab969"
      },
      "outputs": [
        {
          "output_type": "stream",
          "name": "stdout",
          "text": [
            "Requirement already satisfied: gym==0.17.3 in /usr/local/lib/python3.10/dist-packages (0.17.3)\n",
            "Requirement already satisfied: scipy in /usr/local/lib/python3.10/dist-packages (from gym==0.17.3) (1.10.1)\n",
            "Requirement already satisfied: numpy>=1.10.4 in /usr/local/lib/python3.10/dist-packages (from gym==0.17.3) (1.22.4)\n",
            "Requirement already satisfied: pyglet<=1.5.0,>=1.4.0 in /usr/local/lib/python3.10/dist-packages (from gym==0.17.3) (1.5.0)\n",
            "Requirement already satisfied: cloudpickle<1.7.0,>=1.2.0 in /usr/local/lib/python3.10/dist-packages (from gym==0.17.3) (1.6.0)\n",
            "Requirement already satisfied: future in /usr/local/lib/python3.10/dist-packages (from pyglet<=1.5.0,>=1.4.0->gym==0.17.3) (0.18.3)\n"
          ]
        }
      ],
      "source": [
        "## gym 버전 down-grade\n",
        "\n",
        "!pip install gym==0.17.3\n",
        "!apt-get install -y xvfb python-opengl ffmpeg > /dev/null 2>&1\n",
        "!pip install gym pyvirtualdisplay > /dev/null 2>&1"
      ]
    },
    {
      "cell_type": "code",
      "source": [
        "import gym\n",
        "from gym.wrappers.monitor import Monitor\n",
        "import numpy as np\n",
        "import matplotlib.pyplot as plt\n",
        "from pyvirtualdisplay import Display\n",
        "from IPython import display as ipythondisplay\n",
        "\n",
        "display = Display(visible=0, size=(1400, 900))\n",
        "display.start()\n",
        "\n",
        "env = gym.make('CartPole-v1')\n",
        "env = Monitor(env, './video', force=True)\n",
        "env.reset()\n",
        "\n",
        "# SARSA 알고리즘 매개변수\n",
        "learning_rate = 0.3 ## 원래는 0.1\n",
        "discount_factor = 0.99\n",
        "epsilon = 0.3 ## 원래는 0.1\n",
        "\n",
        "# 상태-액션 값 함수 초기화\n",
        "num_states = env.observation_space.shape[0]\n",
        "num_actions = env.action_space.n\n",
        "q_table = np.zeros((num_states, num_actions))\n",
        "\n",
        "# 에피소드 수행\n",
        "num_episodes = 10 ## 원래는 1000\n",
        "episode_rewards = []\n",
        "\n",
        "for episode in range(num_episodes):\n",
        "    state = env.reset()\n",
        "    done = False\n",
        "    total_reward = 0\n",
        "\n",
        "    # 현재 상태에 대한 액션 선택\n",
        "    action = np.argmax(q_table[state.astype(int)])\n",
        "\n",
        "    while not done:\n",
        "        # 액션 적용\n",
        "        next_state, reward, done, _ = env.step(action)\n",
        "\n",
        "        # 다음 상태에 대한 액션 선택\n",
        "        next_action = np.argmax(q_table[next_state.astype(int)])\n",
        "\n",
        "        # SARSA 업데이트\n",
        "        td_target = reward + discount_factor * q_table[next_state.astype(int), next_action.astype(int)]\n",
        "        td_error = td_target - q_table[state.astype(int), action]\n",
        "        q_table[state.astype(int), action] += learning_rate * td_error\n",
        "\n",
        "        state = next_state\n",
        "        action = next_action\n",
        "        total_reward += reward\n",
        "\n",
        "        if np.random.rand() < epsilon:\n",
        "            action = env.action_space.sample()\n",
        "\n",
        "        plt.imshow(env.render(mode='rgb_array'))\n",
        "        ipythondisplay.display(plt.gcf())\n",
        "        ipythondisplay.clear_output(wait=True)\n",
        "\n",
        "    episode_rewards.append(total_reward)\n",
        "\n",
        "env.close()\n",
        "\n",
        "# 에피소드별 보상 출력\n",
        "plt.plot(episode_rewards)\n",
        "plt.xlabel('Episode')\n",
        "plt.ylabel('Reward')\n",
        "plt.title('Episode Rewards')\n",
        "plt.show()"
      ],
      "metadata": {
        "colab": {
          "base_uri": "https://localhost:8080/",
          "height": 396
        },
        "id": "0Wx9aeP5FRQU",
        "outputId": "254eb13b-27b4-467b-9903-a308cac524d5"
      },
      "execution_count": null,
      "outputs": [
        {
          "output_type": "display_data",
          "data": {
            "text/plain": [
              "<Figure size 640x480 with 1 Axes>"
            ],
            "image/png": "[encoded data removed]"
          },
          "metadata": {}
        }
      ]
    }
  ]
}